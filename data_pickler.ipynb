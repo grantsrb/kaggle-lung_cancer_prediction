{
 "cells": [
  {
   "cell_type": "markdown",
   "metadata": {},
   "source": [
    "# Data Pickler and Seperator"
   ]
  },
  {
   "cell_type": "code",
   "execution_count": 9,
   "metadata": {
    "collapsed": false
   },
   "outputs": [],
   "source": [
    "import pickle\n",
    "import dicom\n",
    "import os\n",
    "import numpy as np\n",
    "from sklearn.utils import shuffle\n",
    "\n",
    "path = './sample_images/'\n",
    "dcmFiles = []\n",
    "for dirName, subDirList, fileList in os.walk(path):\n",
    "    for fileName in fileList:\n",
    "        if '.dcm' in fileName.lower():\n",
    "            dcmFiles.append(os.path.join(dirName,fileName))\n",
    "            \n",
    "id_labels = dict()\n",
    "with open('stage1_labels.csv', 'r') as labelFile:\n",
    "    for i,line in enumerate(labelFile):\n",
    "        if i == 0: continue\n",
    "        p_id, cancer = line.strip().split(',')\n",
    "        id_labels[p_id] = int(cancer)\n"
   ]
  },
  {
   "cell_type": "code",
   "execution_count": 10,
   "metadata": {
    "collapsed": true
   },
   "outputs": [],
   "source": [
    "def convert_images(id_labels, dFiles):\n",
    "    labeless_images = []\n",
    "    labeled_images = []\n",
    "    labels = []\n",
    "    for file in dFiles:\n",
    "        ref = dicom.read_file(file)\n",
    "        p_id = ref.PatientID\n",
    "        if p_id in id_labels:\n",
    "            labeled_images.append(ref.pixel_array)\n",
    "            labels.append(id_labels[p_id])\n",
    "        else:\n",
    "            labeless_images.append(ref.pixel_array)\n",
    "    return np.array(labeled_images, dtype=np.float32), np.array(labels), np.array(labeless_images, dtype=np.float32)"
   ]
  },
  {
   "cell_type": "code",
   "execution_count": 11,
   "metadata": {
    "collapsed": false
   },
   "outputs": [
    {
     "name": "stdout",
     "output_type": "stream",
     "text": [
      "Labeled Data Shape (n_samples,rowpix,colpix): (3408, 512, 512)\n",
      "Unlabeled Data Shape (n_samples,rowpix,colpix): (196, 512, 512)\n"
     ]
    }
   ],
   "source": [
    "labeled_data, data_labels, labeless_data = convert_images(id_labels, dcmFiles)\n",
    "print(\"Labeled Data Shape (n_samples,rowpix,colpix): \" + str(labeled_data.shape))\n",
    "print(\"Unlabeled Data Shape (n_samples,rowpix,colpix): \" + str(labeless_data.shape))\n"
   ]
  },
  {
   "cell_type": "code",
   "execution_count": 13,
   "metadata": {
    "collapsed": false
   },
   "outputs": [
    {
     "name": "stdout",
     "output_type": "stream",
     "text": [
      "Training Shape: (2556, 512, 512)\n",
      "\t Training Cancer Ratio: 0.319248826291\n",
      "Validation Shape: (340, 512, 512)\n",
      "\t Validation Cancer Ratio: 0.276470588235\n",
      "Test Shape: (512, 512, 512)\n",
      "\t Test Cancer Ratio: 0.294921875\n"
     ]
    }
   ],
   "source": [
    "labeled_data, data_labels = shuffle(labeled_data, data_labels)\n",
    "\n",
    "train_index = int(labeled_data.shape[0]*0.75)\n",
    "valid_index = int(labeled_data.shape[0]*0.85)\n",
    "\n",
    "datas = [labeled_data[:train_index], labeled_data[train_index:valid_index], labeled_data[valid_index:]]\n",
    "labels = [data_labels[:train_index], data_labels[train_index:valid_index], data_labels[valid_index:]]\n",
    "\n",
    "dictionaries = [dict() for x in range(3)]\n",
    "for i,d in enumerate(dictionaries):    \n",
    "    d['features'] = datas[i]\n",
    "    d['labels'] = labels[i]\n",
    "\n",
    "\n",
    "print(\"Training Shape: \" + str(datas[0].shape))\n",
    "print(\"\\t Training Cancer Ratio: \" + str(np.sum(labels[0])/labels[0].shape[0]))\n",
    "print(\"Validation Shape: \" + str(datas[1].shape))\n",
    "print(\"\\t Validation Cancer Ratio: \" + str(np.sum(labels[1])/labels[1].shape[0]))\n",
    "print(\"Test Shape: \" + str(datas[2].shape))\n",
    "print(\"\\t Test Cancer Ratio: \" + str(np.sum(labels[2])/labels[2].shape[0]))"
   ]
  },
  {
   "cell_type": "code",
   "execution_count": 14,
   "metadata": {
    "collapsed": false
   },
   "outputs": [
    {
     "name": "stdout",
     "output_type": "stream",
     "text": [
      "Training Shape: (2556, 512, 512)\n",
      "\t Training Cancer Ratio: 0.319248826291\n",
      "Validation Shape: (340, 512, 512)\n",
      "\t Validation Cancer Ratio: 0.276470588235\n",
      "Test Shape: (512, 512, 512)\n",
      "\t Test Cancer Ratio: 0.294921875\n"
     ]
    }
   ],
   "source": [
    "## Dictionary testing\n",
    "print(\"Training Shape: \" + str(dictionaries[0]['features'].shape))\n",
    "print(\"\\t Training Cancer Ratio: \" + str(np.sum(dictionaries[0]['labels'])/dictionaries[0]['labels'].shape[0]))\n",
    "print(\"Validation Shape: \" + str(dictionaries[1]['features'].shape))\n",
    "print(\"\\t Validation Cancer Ratio: \" + str(np.sum(dictionaries[1]['labels'])/dictionaries[1]['labels'].shape[0]))\n",
    "print(\"Test Shape: \" + str(dictionaries[2]['features'].shape))\n",
    "print(\"\\t Test Cancer Ratio: \" + str(np.sum(dictionaries[2]['labels'])/dictionaries[2]['labels'].shape[0]))"
   ]
  },
  {
   "cell_type": "code",
   "execution_count": 21,
   "metadata": {
    "collapsed": false
   },
   "outputs": [
    {
     "ename": "OSError",
     "evalue": "[Errno 22] Invalid argument",
     "output_type": "error",
     "traceback": [
      "\u001b[0;31m---------------------------------------------------------------------------\u001b[0m",
      "\u001b[0;31mOSError\u001b[0m                                   Traceback (most recent call last)",
      "\u001b[0;32m<ipython-input-21-fa2ff660d058>\u001b[0m in \u001b[0;36m<module>\u001b[0;34m()\u001b[0m\n\u001b[1;32m      4\u001b[0m \u001b[0;31m#     pickle.dump(d, open(name+'.p', 'wb'))\u001b[0m\u001b[0;34m\u001b[0m\u001b[0;34m\u001b[0m\u001b[0m\n\u001b[1;32m      5\u001b[0m \u001b[0;34m\u001b[0m\u001b[0m\n\u001b[0;32m----> 6\u001b[0;31m \u001b[0mpickle\u001b[0m\u001b[0;34m.\u001b[0m\u001b[0mdump\u001b[0m\u001b[0;34m(\u001b[0m\u001b[0mdictionaries\u001b[0m\u001b[0;34m[\u001b[0m\u001b[0;36m0\u001b[0m\u001b[0;34m]\u001b[0m\u001b[0;34m,\u001b[0m \u001b[0mopen\u001b[0m\u001b[0;34m(\u001b[0m\u001b[0;34m'foo.p'\u001b[0m\u001b[0;34m,\u001b[0m \u001b[0;34m'wb'\u001b[0m\u001b[0;34m)\u001b[0m\u001b[0;34m)\u001b[0m\u001b[0;34m\u001b[0m\u001b[0m\n\u001b[0m",
      "\u001b[0;31mOSError\u001b[0m: [Errno 22] Invalid argument"
     ]
    }
   ],
   "source": [
    "# names = ['train', 'validation', 'test']\n",
    "# for name,d in zip(names,dictionaries):\n",
    "#     print(name)\n",
    "#     pickle.dump(d, open(name+'.p', 'wb'))\n",
    "\n",
    "pickle.dump(dictionaries[0], open('foo.p', 'wb'))"
   ]
  },
  {
   "cell_type": "code",
   "execution_count": null,
   "metadata": {
    "collapsed": true
   },
   "outputs": [],
   "source": []
  }
 ],
 "metadata": {
  "kernelspec": {
   "display_name": "Python 3",
   "language": "python",
   "name": "python3"
  },
  "language_info": {
   "codemirror_mode": {
    "name": "ipython",
    "version": 3
   },
   "file_extension": ".py",
   "mimetype": "text/x-python",
   "name": "python",
   "nbconvert_exporter": "python",
   "pygments_lexer": "ipython3",
   "version": "3.5.2"
  },
  "widgets": {
   "state": {},
   "version": "1.1.2"
  }
 },
 "nbformat": 4,
 "nbformat_minor": 2
}
